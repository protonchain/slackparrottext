{
 "cells": [
  {
   "cell_type": "code",
   "execution_count": 123,
   "metadata": {
    "collapsed": false
   },
   "outputs": [],
   "source": [
    "import numpy as np\n",
    "import pandas as pd"
   ]
  },
  {
   "cell_type": "code",
   "execution_count": 116,
   "metadata": {
    "collapsed": false
   },
   "outputs": [],
   "source": [
    "colnames = []\n",
    "for i in range(26):\n",
    "    for j in range(5):\n",
    "        colnames.append('{}{}'.format(chr(ord('A') + i), j+1))"
   ]
  },
  {
   "cell_type": "code",
   "execution_count": 117,
   "metadata": {
    "collapsed": false
   },
   "outputs": [],
   "source": [
    "df = pd.read_csv('letters.csv', names=colnames)"
   ]
  },
  {
   "cell_type": "code",
   "execution_count": 118,
   "metadata": {
    "collapsed": false
   },
   "outputs": [],
   "source": [
    "letters = np.zeros((5,5,26))\n",
    "for i in range(26):\n",
    "    for j in range(5):\n",
    "        letters[:,j,i] = df['{}{}'.format(chr(ord('A') + i), j+1)].values"
   ]
  },
  {
   "cell_type": "code",
   "execution_count": 119,
   "metadata": {
    "collapsed": true
   },
   "outputs": [],
   "source": [
    "def getletter(letter):\n",
    "    return letters[:,:,ord(letter)-ord('A')]\n",
    "\n",
    "def parrot(text, numspaces=1, partype=':60fpsparrot:'):\n",
    "    matrix = np.zeros((5,5*len(text)))\n",
    "    for i,letter in enumerate(text):\n",
    "        letter = letter.upper()\n",
    "        mat = getletter(letter)\n",
    "        matrix[:,i*5:(i*5)+5] = mat\n",
    "    \n",
    "    for i in range(5):\n",
    "        st = ''\n",
    "        for j in range(5 * len(text)):\n",
    "            if(j % 5 == 0 and j != 0):\n",
    "                st += ':blank:'* numspaces\n",
    "                \n",
    "            if(matrix[i,j] == 0):\n",
    "                st += ':blank:'\n",
    "            else:\n",
    "                st += partype\n",
    "        print(st)"
   ]
  },
  {
   "cell_type": "code",
   "execution_count": 124,
   "metadata": {
    "collapsed": false
   },
   "outputs": [
    {
     "name": "stdout",
     "output_type": "stream",
     "text": [
      ":blank::blank::wave1::blank::blank::blank::wave1::blank::blank::blank::wave1::blank::wave1::wave1::wave1::wave1::wave1::blank::wave1::wave1::wave1::wave1::wave1::blank::wave1::wave1::wave1::wave1::wave1::blank::wave1::blank::blank::blank::wave1::blank::wave1::wave1::wave1::wave1::wave1:\n",
      ":blank::wave1::blank::wave1::blank::blank::wave1::blank::blank::blank::wave1::blank::wave1::blank::blank::blank::blank::blank::wave1::blank::blank::blank::blank::blank::wave1::blank::blank::blank::wave1::blank::wave1::wave1::blank::wave1::wave1::blank::wave1::blank::blank::blank::blank:\n",
      ":wave1::wave1::wave1::wave1::wave1::blank::wave1::blank::wave1::blank::wave1::blank::wave1::wave1::wave1::wave1::wave1::blank::wave1::wave1::wave1::wave1::wave1::blank::wave1::blank::blank::blank::wave1::blank::wave1::blank::wave1::blank::wave1::blank::wave1::wave1::wave1::wave1::wave1:\n",
      ":wave1::blank::blank::blank::wave1::blank::wave1::blank::wave1::blank::wave1::blank::wave1::blank::blank::blank::blank::blank::blank::blank::blank::blank::wave1::blank::wave1::blank::blank::blank::wave1::blank::wave1::blank::blank::blank::wave1::blank::wave1::blank::blank::blank::blank:\n",
      ":wave1::blank::blank::blank::wave1::blank::wave1::wave1::wave1::wave1::wave1::blank::wave1::wave1::wave1::wave1::wave1::blank::wave1::wave1::wave1::wave1::wave1::blank::wave1::wave1::wave1::wave1::wave1::blank::wave1::blank::blank::blank::wave1::blank::wave1::wave1::wave1::wave1::wave1:\n"
     ]
    }
   ],
   "source": [
    "parrot('awesome', partype=':wave1:', numspaces=1)"
   ]
  }
 ],
 "metadata": {
  "kernelspec": {
   "display_name": "Python 3",
   "language": "python",
   "name": "python3"
  },
  "language_info": {
   "codemirror_mode": {
    "name": "ipython",
    "version": 3
   },
   "file_extension": ".py",
   "mimetype": "text/x-python",
   "name": "python",
   "nbconvert_exporter": "python",
   "pygments_lexer": "ipython3",
   "version": "3.5.2"
  }
 },
 "nbformat": 4,
 "nbformat_minor": 0
}
