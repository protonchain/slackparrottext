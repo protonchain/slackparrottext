{
 "cells": [
  {
   "cell_type": "code",
   "execution_count": 134,
   "metadata": {},
   "outputs": [],
   "source": [
    "import numpy as np\n",
    "import pandas as pd\n",
    "import imageio"
   ]
  },
  {
   "cell_type": "code",
   "execution_count": 135,
   "metadata": {},
   "outputs": [],
   "source": [
    "colnames = [str(chr(ord('A') + i)) for i in range(26)]\n",
    "colnumnames = [str(chr(ord('0') + i)) for i in range(10)]\n",
    "lower = [str(chr(ord('a') + i)) for i in range(26)]"
   ]
  },
  {
   "cell_type": "code",
   "execution_count": 140,
   "metadata": {},
   "outputs": [],
   "source": [
    "df = pd.read_csv('letters2.csv', names=colnames, dtype=str)\n",
    "dfnum = pd.read_csv('numbers.csv', names=colnumnames, dtype=str)\n",
    "dfspecial = pd.read_csv('special.csv', dtype=str)\n",
    "specialcol = list(dfspecial.columns)"
   ]
  },
  {
   "cell_type": "code",
   "execution_count": 141,
   "metadata": {},
   "outputs": [],
   "source": [
    "letters = np.zeros((7,5,26))\n",
    "numbers = np.zeros((7,5,10))\n",
    "special = np.zeros((7,5,len(dfspecial.columns)))\n",
    "for i in range(26):\n",
    "    temp = df[str(chr(ord('A') + i))].values\n",
    "    for j, val in enumerate(temp):\n",
    "        temp2 = [int(t) for t in val]\n",
    "        letters[j, :, i] = temp2\n",
    "    \n",
    "    if(i < 10):\n",
    "        temp = dfnum[str(chr(ord('0') + i))].values\n",
    "        for j, val in enumerate(temp):\n",
    "            temp2 = [int(t) for t in val]\n",
    "            numbers[j, :, i] = temp2\n",
    "            \n",
    "    if(i < len(specialcol)):\n",
    "        temp = dfspecial[specialcol[i]].values\n",
    "        for j, val in enumerate(temp):\n",
    "            temp2 = [int(t) for t in val]\n",
    "            special[j, :, i] = temp2"
   ]
  },
  {
   "cell_type": "code",
   "execution_count": 149,
   "metadata": {},
   "outputs": [],
   "source": [
    "def getletter(letter):\n",
    "    if(letter in colnumnames):\n",
    "        return numbers[:,:,ord(letter)-ord('0')]\n",
    "    elif(letter in specialcol):\n",
    "        return special[:,:, specialcol.index(letter)]\n",
    "    elif(letter in lower):\n",
    "        let = imageio.imread(f'BMP/{letter}.bmp', pilmode='F')\n",
    "        let[let == 0] = 1\n",
    "        let[let == 255] = 0\n",
    "        return let\n",
    "    return letters[:,:,ord(letter)-ord('A')]\n",
    "       \n",
    "def parrot(text, numspaces=1, partype=':60fpsparrot:'):\n",
    "    matrix = np.zeros((1,1))\n",
    "    for i,letter in enumerate(text):\n",
    "        if (letter == ' '):\n",
    "            mat = np.full((7, 2), ':blank:')\n",
    "        else:\n",
    "            mat = getletter(letter).astype(str)\n",
    "            mat[mat == '1.0'] = partype\n",
    "            mat[mat == '0.0'] = ':blank:'\n",
    "        if(i == 0):\n",
    "            matrix = mat\n",
    "        else:\n",
    "            matrix = np.append(matrix, np.full((7, 1), ':blank:'), 1)\n",
    "            matrix = np.append(matrix, mat, 1)\n",
    "            \n",
    "    pd.DataFrame(matrix).to_clipboard(index=False,header=False)\n",
    "    \n",
    "def waveparrot(text, numspaces=1):\n",
    "    matrix = np.zeros((1,1))\n",
    "    for i,letter in enumerate(text):\n",
    "        if (letter == ' '):\n",
    "            mat = np.full((7, 2), ':blank:')\n",
    "        else:\n",
    "            mat = getletter(letter).astype(str)\n",
    "            mat[mat == '1.0'] = f':wave{i+1}:'\n",
    "            mat[mat == '0.0'] = ':blank:'\n",
    "        if(i == 0):\n",
    "            matrix = mat\n",
    "        else:\n",
    "            matrix = np.append(matrix, np.full((7, 1), ':blank:'), 1)\n",
    "            matrix = np.append(matrix, mat, 1)\n",
    "            \n",
    "    pd.DataFrame(matrix).to_clipboard(index=False,header=False)"
   ]
  },
  {
   "cell_type": "code",
   "execution_count": 152,
   "metadata": {},
   "outputs": [],
   "source": [
    "parrot('wow!', partype=':wow:', numspaces=1)"
   ]
  },
  {
   "cell_type": "code",
   "execution_count": 86,
   "metadata": {},
   "outputs": [],
   "source": [
    "waveparrot('wfc3', numspaces=1)"
   ]
  },
  {
   "cell_type": "code",
   "execution_count": 90,
   "metadata": {},
   "outputs": [
    {
     "data": {
      "text/plain": [
       "array(['01110', '10001', '10001', '11111', '10001', '10001', '10001'],\n",
       "      dtype=object)"
      ]
     },
     "execution_count": 90,
     "metadata": {},
     "output_type": "execute_result"
    }
   ],
   "source": [
    "df['A'].values"
   ]
  },
  {
   "cell_type": "code",
   "execution_count": 91,
   "metadata": {},
   "outputs": [],
   "source": [
    "let = imageio.imread('a.bmp', pilmode='F')"
   ]
  },
  {
   "cell_type": "code",
   "execution_count": 93,
   "metadata": {},
   "outputs": [],
   "source": [
    "letter = getletter('A')"
   ]
  },
  {
   "cell_type": "code",
   "execution_count": 96,
   "metadata": {},
   "outputs": [
    {
     "ename": "ValueError",
     "evalue": "all the input array dimensions for the concatenation axis must match exactly, but along dimension 0, the array at index 0 has size 7 and the array at index 1 has size 8",
     "output_type": "error",
     "traceback": [
      "\u001b[1;31m---------------------------------------------------------------------------\u001b[0m",
      "\u001b[1;31mValueError\u001b[0m                                Traceback (most recent call last)",
      "\u001b[1;32m<ipython-input-96-be5298b57764>\u001b[0m in \u001b[0;36m<module>\u001b[1;34m\u001b[0m\n\u001b[1;32m----> 1\u001b[1;33m \u001b[0mnp\u001b[0m\u001b[1;33m.\u001b[0m\u001b[0mappend\u001b[0m\u001b[1;33m(\u001b[0m\u001b[0mletter\u001b[0m\u001b[1;33m,\u001b[0m \u001b[0mlet\u001b[0m\u001b[1;33m,\u001b[0m \u001b[0maxis\u001b[0m\u001b[1;33m=\u001b[0m\u001b[1;36m1\u001b[0m\u001b[1;33m)\u001b[0m\u001b[1;33m\u001b[0m\u001b[1;33m\u001b[0m\u001b[0m\n\u001b[0m",
      "\u001b[1;32m<__array_function__ internals>\u001b[0m in \u001b[0;36mappend\u001b[1;34m(*args, **kwargs)\u001b[0m\n",
      "\u001b[1;32m~\\anaconda3\\lib\\site-packages\\numpy\\lib\\function_base.py\u001b[0m in \u001b[0;36mappend\u001b[1;34m(arr, values, axis)\u001b[0m\n\u001b[0;32m   4743\u001b[0m         \u001b[0mvalues\u001b[0m \u001b[1;33m=\u001b[0m \u001b[0mravel\u001b[0m\u001b[1;33m(\u001b[0m\u001b[0mvalues\u001b[0m\u001b[1;33m)\u001b[0m\u001b[1;33m\u001b[0m\u001b[1;33m\u001b[0m\u001b[0m\n\u001b[0;32m   4744\u001b[0m         \u001b[0maxis\u001b[0m \u001b[1;33m=\u001b[0m \u001b[0marr\u001b[0m\u001b[1;33m.\u001b[0m\u001b[0mndim\u001b[0m\u001b[1;33m-\u001b[0m\u001b[1;36m1\u001b[0m\u001b[1;33m\u001b[0m\u001b[1;33m\u001b[0m\u001b[0m\n\u001b[1;32m-> 4745\u001b[1;33m     \u001b[1;32mreturn\u001b[0m \u001b[0mconcatenate\u001b[0m\u001b[1;33m(\u001b[0m\u001b[1;33m(\u001b[0m\u001b[0marr\u001b[0m\u001b[1;33m,\u001b[0m \u001b[0mvalues\u001b[0m\u001b[1;33m)\u001b[0m\u001b[1;33m,\u001b[0m \u001b[0maxis\u001b[0m\u001b[1;33m=\u001b[0m\u001b[0maxis\u001b[0m\u001b[1;33m)\u001b[0m\u001b[1;33m\u001b[0m\u001b[1;33m\u001b[0m\u001b[0m\n\u001b[0m\u001b[0;32m   4746\u001b[0m \u001b[1;33m\u001b[0m\u001b[0m\n\u001b[0;32m   4747\u001b[0m \u001b[1;33m\u001b[0m\u001b[0m\n",
      "\u001b[1;32m<__array_function__ internals>\u001b[0m in \u001b[0;36mconcatenate\u001b[1;34m(*args, **kwargs)\u001b[0m\n",
      "\u001b[1;31mValueError\u001b[0m: all the input array dimensions for the concatenation axis must match exactly, but along dimension 0, the array at index 0 has size 7 and the array at index 1 has size 8"
     ]
    }
   ],
   "source": [
    "np.append(letter, let, axis=1)"
   ]
  },
  {
   "cell_type": "code",
   "execution_count": 128,
   "metadata": {},
   "outputs": [],
   "source": []
  },
  {
   "cell_type": "code",
   "execution_count": 129,
   "metadata": {},
   "outputs": [
    {
     "data": {
      "text/plain": [
       "['?', '!', \"'\"]"
      ]
     },
     "execution_count": 129,
     "metadata": {},
     "output_type": "execute_result"
    }
   ],
   "source": [
    "specialcol"
   ]
  },
  {
   "cell_type": "code",
   "execution_count": 127,
   "metadata": {},
   "outputs": [
    {
     "ename": "SyntaxError",
     "evalue": "cannot assign to function call (<ipython-input-127-206efb431550>, line 1)",
     "output_type": "error",
     "traceback": [
      "\u001b[1;36m  File \u001b[1;32m\"<ipython-input-127-206efb431550>\"\u001b[1;36m, line \u001b[1;32m1\u001b[0m\n\u001b[1;33m    specialcol.index(\"Quote\") = \"''\"\u001b[0m\n\u001b[1;37m    ^\u001b[0m\n\u001b[1;31mSyntaxError\u001b[0m\u001b[1;31m:\u001b[0m cannot assign to function call\n"
     ]
    }
   ],
   "source": [
    "specialcol.index(\"Quote\") = \"'\""
   ]
  },
  {
   "cell_type": "code",
   "execution_count": null,
   "metadata": {},
   "outputs": [],
   "source": []
  }
 ],
 "metadata": {
  "kernelspec": {
   "display_name": "Python 3",
   "language": "python",
   "name": "python3"
  },
  "language_info": {
   "codemirror_mode": {
    "name": "ipython",
    "version": 3
   },
   "file_extension": ".py",
   "mimetype": "text/x-python",
   "name": "python",
   "nbconvert_exporter": "python",
   "pygments_lexer": "ipython3",
   "version": "3.8.8"
  }
 },
 "nbformat": 4,
 "nbformat_minor": 1
}
