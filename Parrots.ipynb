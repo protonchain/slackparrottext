{
 "cells": [
  {
   "cell_type": "code",
   "execution_count": 7,
   "metadata": {},
   "outputs": [],
   "source": [
    "import numpy as np\n",
    "import pandas as pd\n",
    "import imageio"
   ]
  },
  {
   "cell_type": "code",
   "execution_count": 8,
   "metadata": {},
   "outputs": [],
   "source": [
    "colnames = [str(chr(ord('A') + i)) for i in range(26)]\n",
    "colnumnames = [str(chr(ord('0') + i)) for i in range(10)]"
   ]
  },
  {
   "cell_type": "code",
   "execution_count": 9,
   "metadata": {},
   "outputs": [],
   "source": [
    "df = pd.read_csv('letters2.csv', names=colnames, dtype=str)\n",
    "dfnum = pd.read_csv('numbers.csv', names=colnumnames, dtype=str)"
   ]
  },
  {
   "cell_type": "code",
   "execution_count": 29,
   "metadata": {},
   "outputs": [],
   "source": [
    "dfspecial = pd.read_csv('special.csv', dtype=str)\n",
    "specialcol = list(dfspecial.columns)"
   ]
  },
  {
   "cell_type": "code",
   "execution_count": 24,
   "metadata": {},
   "outputs": [],
   "source": [
    "letters = np.zeros((7,5,26))\n",
    "numbers = np.zeros((7,5,10))\n",
    "special = np.zeros((7,5,len(dfspecial.columns)))\n",
    "for i in range(26):\n",
    "    temp = df[str(chr(ord('A') + i))].values\n",
    "    for j, val in enumerate(temp):\n",
    "        temp2 = [int(t) for t in val]\n",
    "        letters[j, :, i] = temp2\n",
    "    \n",
    "    if(i < 10):\n",
    "        temp = dfnum[str(chr(ord('0') + i))].values\n",
    "        for j, val in enumerate(temp):\n",
    "            temp2 = [int(t) for t in val]\n",
    "            numbers[j, :, i] = temp2\n",
    "            \n",
    "    if(i < len(specialcol)):\n",
    "        temp = dfspecial[specialcol[i]].values\n",
    "        for j, val in enumerate(temp):\n",
    "            temp2 = [int(t) for t in val]\n",
    "            special[j, :, i] = temp2"
   ]
  },
  {
   "cell_type": "code",
   "execution_count": 33,
   "metadata": {},
   "outputs": [
    {
     "data": {
      "text/plain": [
       "1"
      ]
     },
     "execution_count": 33,
     "metadata": {},
     "output_type": "execute_result"
    }
   ],
   "source": [
    "specialcol.index('!')"
   ]
  },
  {
   "cell_type": "code",
   "execution_count": 37,
   "metadata": {},
   "outputs": [],
   "source": [
    "def getletter(letter):\n",
    "    if(letter in colnumnames):\n",
    "        return numbers[:,:,ord(letter)-ord('0')]\n",
    "    elif(letter in specialcol):\n",
    "        return special[:,:, specialcol.index(letter)]\n",
    "    return letters[:,:,ord(letter)-ord('A')]\n",
    "\n",
    "def parrot(text, numspaces=1, partype=':60fpsparrot:'):\n",
    "    matrix = np.zeros((7,5*len(text)))\n",
    "    for i,letter in enumerate(text):\n",
    "        if (letter == ' '):\n",
    "            mat = np.zeros((7,5))\n",
    "        else:\n",
    "            letter = letter.upper()\n",
    "            mat = getletter(letter)\n",
    "        matrix[:,i*5:(i*5)+5] = mat\n",
    "    \n",
    "    for i in range(7):\n",
    "        st = ''\n",
    "        for j in range(5 * len(text)):\n",
    "            if(j % 5 == 0 and j != 0):\n",
    "                st += ':blank:'* numspaces\n",
    "                \n",
    "            if(matrix[i,j] == 0):\n",
    "                st += ':blank:'\n",
    "            else:\n",
    "                st += partype\n",
    "        print(st)\n",
    "        \n",
    "def waveparrot(text, numspaces=1):\n",
    "    matrix = np.zeros((7,5*len(text)), dtype=int)\n",
    "    for i,letter in enumerate(text):\n",
    "        if (letter == ' '):\n",
    "            mat = np.zeros((7,5))\n",
    "        else:\n",
    "            letter = letter.upper()\n",
    "            mult = ((i+1) % 10)\n",
    "            if(mult == 0):\n",
    "                mult = 1\n",
    "            mat = getletter(letter) * mult\n",
    "        matrix[:,i*5:(i*5)+5] = mat\n",
    "    \n",
    "    for i in range(7):\n",
    "        st = ''\n",
    "        for j in range(5 * len(text)):\n",
    "            if(j % 5 == 0 and j != 0):\n",
    "                st += ':blank:'* numspaces\n",
    "                \n",
    "            if(matrix[i,j] == 0):\n",
    "                st += ':blank:'\n",
    "            else:\n",
    "                st += ':wave{}:'.format(matrix[i,j])\n",
    "        print(st)\n",
    "        \n",
    "def parrot2(text, numspaces=1, partype=':60fpsparrot:'):\n",
    "    matrix = np.zeros((7,5))\n",
    "    for i,letter in enumerate(text):\n",
    "        if (letter == ' '):\n",
    "            mat = np.full((7, 5), ':blank:')\n",
    "        else:\n",
    "            letter = letter.upper()\n",
    "            mat = getletter(letter).astype(str)\n",
    "            mat[mat == '1.0'] = partype\n",
    "            mat[mat == '0.0'] = ':blank:'\n",
    "        if(i == 0):\n",
    "            matrix = mat\n",
    "        else:\n",
    "            matrix = np.append(matrix, np.full((7, 1), ':blank:'), 1)\n",
    "            matrix = np.append(matrix, mat, 1)\n",
    "            \n",
    "    pd.DataFrame(matrix).to_clipboard(index=False,header=False)\n",
    "    \n",
    "def waveparrot2(text, numspaces=1):\n",
    "    matrix = np.zeros((7,5))\n",
    "    for i,letter in enumerate(text):\n",
    "        if (letter == ' '):\n",
    "            mat = np.full((7, 5), ':blank:')\n",
    "        else:\n",
    "            letter = letter.upper()\n",
    "            mat = getletter(letter).astype(str)\n",
    "            mat[mat == '1.0'] = partype\n",
    "            mat[mat == '0.0'] = ':blank:'\n",
    "        if(i == 0):\n",
    "            matrix = mat\n",
    "        else:\n",
    "            matrix = np.append(matrix, np.full((7, 1), ':blank:'), 1)\n",
    "            matrix = np.append(matrix, mat, 1)"
   ]
  },
  {
   "cell_type": "code",
   "execution_count": 40,
   "metadata": {},
   "outputs": [
    {
     "name": "stdout",
     "output_type": "stream",
     "text": [
      ":hmm::hmm::hmm::hmm::hmm::blank::hmm::blank::blank::blank::hmm::blank::blank::hmm::hmm::hmm::blank::blank::hmm::hmm::blank::blank::hmm::blank::hmm::blank::blank::blank::hmm::blank::hmm::hmm::hmm::hmm::hmm::blank::blank::hmm::hmm::hmm::blank:\n",
      ":blank::blank::hmm::blank::blank::blank::hmm::blank::blank::blank::hmm::blank::hmm::blank::blank::blank::hmm::blank::hmm::hmm::blank::blank::hmm::blank::hmm::blank::blank::hmm::blank::blank::hmm::blank::blank::blank::blank::blank::hmm::blank::blank::blank::hmm:\n",
      ":blank::blank::hmm::blank::blank::blank::hmm::blank::blank::blank::hmm::blank::hmm::blank::blank::blank::hmm::blank::hmm::blank::hmm::blank::hmm::blank::hmm::blank::hmm::blank::blank::blank::hmm::blank::blank::blank::blank::blank::hmm::blank::blank::blank::hmm:\n",
      ":blank::blank::hmm::blank::blank::blank::hmm::hmm::hmm::hmm::hmm::blank::hmm::hmm::hmm::hmm::hmm::blank::hmm::blank::hmm::blank::hmm::blank::hmm::hmm::blank::blank::blank::blank::hmm::hmm::hmm::hmm::hmm::blank::blank::blank::hmm::hmm::blank:\n",
      ":blank::blank::hmm::blank::blank::blank::hmm::blank::blank::blank::hmm::blank::hmm::blank::blank::blank::hmm::blank::hmm::blank::hmm::blank::hmm::blank::hmm::blank::hmm::blank::blank::blank::blank::blank::blank::blank::hmm::blank::blank::blank::hmm::blank::blank:\n",
      ":blank::blank::hmm::blank::blank::blank::hmm::blank::blank::blank::hmm::blank::hmm::blank::blank::blank::hmm::blank::hmm::blank::blank::hmm::hmm::blank::hmm::blank::blank::hmm::blank::blank::blank::blank::blank::blank::hmm::blank::blank::blank::blank::blank::blank:\n",
      ":blank::blank::hmm::blank::blank::blank::hmm::blank::blank::blank::hmm::blank::hmm::blank::blank::blank::hmm::blank::hmm::blank::blank::blank::hmm::blank::hmm::blank::blank::blank::hmm::blank::hmm::hmm::hmm::hmm::hmm::blank::blank::blank::hmm::blank::blank:\n"
     ]
    }
   ],
   "source": [
    "parrot('thanks?', partype=':hmm:', numspaces=1)"
   ]
  },
  {
   "cell_type": "code",
   "execution_count": 36,
   "metadata": {},
   "outputs": [
    {
     "name": "stdout",
     "output_type": "stream",
     "text": [
      ":wave1::blank::wave1::blank::wave1::blank::wave2::wave2::wave2::wave2::wave2::blank::blank::wave3::wave3::wave3::wave3::blank::blank::wave4::wave4::wave4::blank:\n",
      ":wave1::blank::wave1::blank::wave1::blank::wave2::blank::blank::blank::blank::blank::wave3::blank::blank::blank::blank::blank::wave4::blank::blank::blank::wave4:\n",
      ":wave1::blank::wave1::blank::wave1::blank::wave2::blank::blank::blank::blank::blank::wave3::blank::blank::blank::blank::blank::blank::blank::blank::blank::wave4:\n",
      ":wave1::blank::wave1::blank::wave1::blank::wave2::wave2::wave2::blank::blank::blank::wave3::blank::blank::blank::blank::blank::blank::blank::wave4::wave4::blank:\n",
      ":wave1::blank::wave1::blank::wave1::blank::wave2::blank::blank::blank::blank::blank::wave3::blank::blank::blank::blank::blank::blank::blank::blank::blank::wave4:\n",
      ":wave1::blank::wave1::blank::wave1::blank::wave2::blank::blank::blank::blank::blank::wave3::blank::blank::blank::blank::blank::wave4::blank::blank::blank::wave4:\n",
      ":blank::wave1::blank::wave1::blank::blank::wave2::blank::blank::blank::blank::blank::blank::wave3::wave3::wave3::wave3::blank::blank::wave4::wave4::wave4::blank:\n"
     ]
    }
   ],
   "source": [
    "waveparrot('wfc3', numspaces=1)"
   ]
  },
  {
   "cell_type": "code",
   "execution_count": 73,
   "metadata": {},
   "outputs": [],
   "source": [
    "parrot2('thanks?', partype=':hmm:', numspaces=1)"
   ]
  },
  {
   "cell_type": "code",
   "execution_count": null,
   "metadata": {},
   "outputs": [],
   "source": []
  }
 ],
 "metadata": {
  "kernelspec": {
   "display_name": "Python 3",
   "language": "python",
   "name": "python3"
  },
  "language_info": {
   "codemirror_mode": {
    "name": "ipython",
    "version": 3
   },
   "file_extension": ".py",
   "mimetype": "text/x-python",
   "name": "python",
   "nbconvert_exporter": "python",
   "pygments_lexer": "ipython3",
   "version": "3.8.8"
  }
 },
 "nbformat": 4,
 "nbformat_minor": 1
}
