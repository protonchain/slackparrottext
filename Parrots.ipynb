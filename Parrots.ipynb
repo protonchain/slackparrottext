{
 "cells": [
  {
   "cell_type": "code",
   "execution_count": 59,
   "metadata": {},
   "outputs": [],
   "source": [
    "import numpy as np\n",
    "import pandas as pd"
   ]
  },
  {
   "cell_type": "code",
   "execution_count": 60,
   "metadata": {},
   "outputs": [],
   "source": [
    "colnames = []\n",
    "for i in range(26):\n",
    "    colnames.append('{}'.format(chr(ord('A') + i)))"
   ]
  },
  {
   "cell_type": "code",
   "execution_count": 61,
   "metadata": {},
   "outputs": [],
   "source": [
    "df = pd.read_csv('letters2.csv', names=colnames, dtype=str)"
   ]
  },
  {
   "cell_type": "code",
   "execution_count": 62,
   "metadata": {},
   "outputs": [],
   "source": [
    "letters = np.zeros((7,5,26))\n",
    "for i in range(26):\n",
    "    temp = df['{}'.format(chr(ord('A') + i))].values\n",
    "    for j, val in enumerate(temp):\n",
    "        temp2 = [int(t) for t in val]\n",
    "        letters[j, :, i] = temp2"
   ]
  },
  {
   "cell_type": "code",
   "execution_count": 69,
   "metadata": {},
   "outputs": [],
   "source": [
    "def getletter(letter):\n",
    "    return letters[:,:,ord(letter)-ord('A')]\n",
    "\n",
    "def parrot(text, numspaces=1, partype=':60fpsparrot:'):\n",
    "    matrix = np.zeros((7,5*len(text)))\n",
    "    for i,letter in enumerate(text):\n",
    "        if (letter == ' '):\n",
    "            mat = np.zeros((7,5))\n",
    "        else:\n",
    "            letter = letter.upper()\n",
    "            mat = getletter(letter)\n",
    "        matrix[:,i*5:(i*5)+5] = mat\n",
    "    \n",
    "    for i in range(7):\n",
    "        st = ''\n",
    "        for j in range(5 * len(text)):\n",
    "            if(j % 5 == 0 and j != 0):\n",
    "                st += ':blank:'* numspaces\n",
    "                \n",
    "            if(matrix[i,j] == 0):\n",
    "                st += ':blank:'\n",
    "            else:\n",
    "                st += partype\n",
    "        print(st)\n",
    "        \n",
    "def waveparrot(text, numspaces=1):\n",
    "    matrix = np.zeros((7,5*len(text)), dtype=int)\n",
    "    for i,letter in enumerate(text):\n",
    "        if (letter == ' '):\n",
    "            mat = np.zeros((7,5))\n",
    "        else:\n",
    "            letter = letter.upper()\n",
    "            mult = ((i+1) % 10)\n",
    "            if(mult == 0):\n",
    "                mult = 1\n",
    "            mat = getletter(letter) * mult\n",
    "        matrix[:,i*5:(i*5)+5] = mat\n",
    "    \n",
    "    for i in range(7):\n",
    "        st = ''\n",
    "        for j in range(5 * len(text)):\n",
    "            if(j % 5 == 0 and j != 0):\n",
    "                st += ':blank:'* numspaces\n",
    "                \n",
    "            if(matrix[i,j] == 0):\n",
    "                st += ':blank:'\n",
    "            else:\n",
    "                st += ':wave{}:'.format(matrix[i,j])\n",
    "        print(st)"
   ]
  },
  {
   "cell_type": "code",
   "execution_count": 68,
   "metadata": {},
   "outputs": [
    {
     "name": "stdout",
     "output_type": "stream",
     "text": [
      ":wavyfred::wavyfred::wavyfred::wavyfred::wavyfred::blank::wavyfred::wavyfred::wavyfred::wavyfred::blank::blank::wavyfred::wavyfred::wavyfred::wavyfred::wavyfred::blank::wavyfred::wavyfred::wavyfred::wavyfred::blank:\n",
      ":wavyfred::blank::blank::blank::blank::blank::wavyfred::blank::blank::blank::wavyfred::blank::wavyfred::blank::blank::blank::blank::blank::wavyfred::blank::blank::blank::wavyfred:\n",
      ":wavyfred::blank::blank::blank::blank::blank::wavyfred::blank::blank::blank::wavyfred::blank::wavyfred::blank::blank::blank::blank::blank::wavyfred::blank::blank::blank::wavyfred:\n",
      ":wavyfred::wavyfred::wavyfred::blank::blank::blank::wavyfred::wavyfred::wavyfred::wavyfred::blank::blank::wavyfred::wavyfred::wavyfred::blank::blank::blank::wavyfred::blank::blank::blank::wavyfred:\n",
      ":wavyfred::blank::blank::blank::blank::blank::wavyfred::blank::blank::blank::wavyfred::blank::wavyfred::blank::blank::blank::blank::blank::wavyfred::blank::blank::blank::wavyfred:\n",
      ":wavyfred::blank::blank::blank::blank::blank::wavyfred::blank::blank::blank::wavyfred::blank::wavyfred::blank::blank::blank::blank::blank::wavyfred::blank::blank::blank::wavyfred:\n",
      ":wavyfred::blank::blank::blank::blank::blank::wavyfred::blank::blank::blank::wavyfred::blank::wavyfred::wavyfred::wavyfred::wavyfred::wavyfred::blank::wavyfred::wavyfred::wavyfred::wavyfred::blank:\n"
     ]
    }
   ],
   "source": [
    "parrot('Hello world', partype=':wavyfred:', numspaces=1)"
   ]
  },
  {
   "cell_type": "code",
   "execution_count": 70,
   "metadata": {},
   "outputs": [
    {
     "name": "stdout",
     "output_type": "stream",
     "text": [
      ":wave1::wave1::wave1::wave1::blank::blank::wave2::wave2::wave2::wave2::wave2::blank::wave3::wave3::wave3::wave3::wave3::blank::wave4::wave4::wave4::wave4::blank:\n",
      ":wave1::blank::blank::blank::wave1::blank::wave2::blank::blank::blank::blank::blank::wave3::blank::blank::blank::blank::blank::wave4::blank::blank::blank::wave4:\n",
      ":wave1::blank::blank::blank::wave1::blank::wave2::blank::blank::blank::blank::blank::wave3::blank::blank::blank::blank::blank::wave4::blank::blank::blank::wave4:\n",
      ":wave1::wave1::wave1::wave1::blank::blank::wave2::wave2::wave2::blank::blank::blank::wave3::wave3::wave3::blank::blank::blank::wave4::wave4::wave4::wave4::blank:\n",
      ":wave1::blank::blank::blank::wave1::blank::wave2::blank::blank::blank::blank::blank::wave3::blank::blank::blank::blank::blank::wave4::blank::blank::blank::wave4:\n",
      ":wave1::blank::blank::blank::wave1::blank::wave2::blank::blank::blank::blank::blank::wave3::blank::blank::blank::blank::blank::wave4::blank::blank::blank::wave4:\n",
      ":wave1::wave1::wave1::wave1::blank::blank::wave2::wave2::wave2::wave2::wave2::blank::wave3::wave3::wave3::wave3::wave3::blank::wave4::blank::blank::blank::wave4:\n"
     ]
    }
   ],
   "source": [
    "waveparrot('Hello', numspaces=1)"
   ]
  },
  {
   "cell_type": "code",
   "execution_count": null,
   "metadata": {},
   "outputs": [],
   "source": []
  }
 ],
 "metadata": {
  "kernelspec": {
   "display_name": "Python 3",
   "language": "python",
   "name": "python3"
  },
  "language_info": {
   "codemirror_mode": {
    "name": "ipython",
    "version": 3
   },
   "file_extension": ".py",
   "mimetype": "text/x-python",
   "name": "python",
   "nbconvert_exporter": "python",
   "pygments_lexer": "ipython3",
   "version": "3.8.8"
  }
 },
 "nbformat": 4,
 "nbformat_minor": 1
}
